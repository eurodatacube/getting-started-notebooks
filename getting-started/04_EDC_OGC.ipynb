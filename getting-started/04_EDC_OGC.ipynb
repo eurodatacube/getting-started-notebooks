{
 "cells": [
  {
   "cell_type": "markdown",
   "metadata": {},
   "source": [
    "#### Example 11: Evalscript\n",
    "\n",
    "Instead of using Sentinel Hub Configurator we can define our own custom layers inside Python with ``CustomUrlParam.EVALSCRIPT``. All we need is a chunk of code written in Javascript which is not too long to fit into an URL.\n",
    "\n",
    "Let's implement a simple cloud detection algorithm."
   ],
   "execution_count": null,
   "outputs": []
  },
  {
   "cell_type": "code",
   "execution_count": null,
   "metadata": {},
   "outputs": [],
   "source": [
    "# by Braaten, Cohen, Yang 2015\n",
    "my_evalscript = '''\n",
    "var bRatio = (B01 - 0.175) / (0.39 - 0.175);\n",
    "var NGDR = (B01 - B02) / (B01 + B02);\n",
    "\n",
    "function clip(a) {\n",
    "    return a>0 ? (a<1 ? a : 1) : 0;\n",
    "}\n",
    "    \n",
    "if (bRatio > 1) {\n",
    "    var v = 0.5*(bRatio - 1);\n",
    "    return [0.5*clip(B04), 0.5*clip(B03), 0.5*clip(B02) + v];\n",
    "}\n",
    "    \n",
    "if (bRatio > 0 && NGDR > 0) {\n",
    "    var v = 5 * Math.sqrt(bRatio * NGDR);\n",
    "    return [0.5 * clip(B04) + v, 0.5 * clip(B03), 0.5 * clip(B02)];\n",
    "}\n",
    "    \n",
    "return [2*B04, 2*B03, 2*B02];\n",
    "'''\n",
    "\n",
    "evalscript_wms_request = WmsRequest(layer='TRUE-COLOR-S2-L1C', # Layer parameter can be any existing layer\n",
    "                                    bbox=betsiboka_bbox, \n",
    "                                    time='2017-12-20', \n",
    "                                    width=512,\n",
    "                                    instance_id=INSTANCE_ID,\n",
    "                                    custom_url_params={CustomUrlParam.EVALSCRIPT: my_evalscript})\n",
    "\n",
    "evalscript_wms_data = evalscript_wms_request.get_data()\n",
    "plot_image(evalscript_wms_data[0])"
   ]
  },
  {
   "cell_type": "markdown",
   "metadata": {},
   "source": [
    "Note: We still had to specify an existing layer from Configurator. That is because each layer is linked with it's data source and we cannot override layer's data source from the code. \n",
    "\n",
    "#### Example 12: Evalscript URL\n",
    "\n",
    "Another option is to simply provide an URL address of an evalscript written in Javascript. For that purpose we have created a [collection of useful custom scripts on Github](https://github.com/sentinel-hub/custom-scripts).\n",
    "\n",
    "Let's select a script for calculating moisture index and provide its URL as a value of parameter `CustomUrlParam.EVALSCRIPTURL`."
   ],
   "execution_count": null,
   "outputs": []
  },
  {
   "cell_type": "code",
   "execution_count": null,
   "metadata": {},
   "outputs": [],
   "source": [
    "my_url = 'https://raw.githubusercontent.com/sentinel-hub/custom-scripts/master/sentinel-2/moisture_index/scripts.js'\n",
    "\n",
    "evalscripturl_wms_request = WmsRequest(layer='TRUE-COLOR-S2-L1C', # Layer parameter can be any existing layer\n",
    "                                       bbox=betsiboka_bbox, \n",
    "                                       time='2017-12-20', \n",
    "                                       width=512,\n",
    "                                       instance_id=INSTANCE_ID,\n",
    "                                       custom_url_params={CustomUrlParam.EVALSCRIPTURL: my_url})\n",
    "\n",
    "evalscripturl_wms_data = evalscripturl_wms_request.get_data()\n",
    "plot_image(evalscripturl_wms_data[0])"
   ]
  },
  {
   "cell_type": "markdown",
   "metadata": {},
   "source": [
    "### Data Sources\n",
    "\n",
    "The package supports various data sources. Default data source is Sentinel-2 L1C however currently the following is supported:"
   ],
   "execution_count": null,
   "outputs": []
  },
  {
   "cell_type": "code",
   "execution_count": null,
   "metadata": {},
   "outputs": [],
   "source": [
    "from sentinelhub import DataSource\n",
    "\n",
    "for source in DataSource.get_available_sources():\n",
    "    print(source)"
   ]
  },
  {
   "cell_type": "markdown",
   "metadata": {},
   "source": [
    "In order to obtain data from any of these data sources with `WmsRequest` or `WcsRequest` we have to do the following: \n",
    "\n",
    "- Use  a configuration based on **Python scripts template** or create a new layer in [Sentinel Hub Configurator](https://apps.sentinel-hub.com/configurator/) that is defined to use desired satellite data source. Set the `layer` parameter of `WmsRequest` or `WcsRequest` to the name of this newly created layer.\n",
    "- Set `data_source` parameter of `WmsRequest` or `WcsRequest` to the same data source (using one of the objects from the list above)."
   ],
   "execution_count": null,
   "outputs": []
  },
  {
   "cell_type": "markdown",
   "metadata": {},
   "source": [
    "#### Example 13: Sentinel-2 L2A\n",
    "\n",
    "When you have a layer named `TRUE-COLOR-S2-L2A` in your configuration let's try to obtain some level 2A images. Unfortunately L2A images are being processed only for some regions around the globe and Betsiboka Estuary is not one of them.\n",
    "\n",
    "Instead let's check [Eyjafjallajökull volcano](https://en.wikipedia.org/wiki/Eyjafjallaj%C3%B6kull) on Iceland. This time we will provide coordinates in Popular Web Mercator CRS."
   ],
   "execution_count": null,
   "outputs": []
  },
  {
   "cell_type": "code",
   "execution_count": null,
   "metadata": {},
   "outputs": [],
   "source": [
    "volcano_bbox = BBox(bbox=[(-2217485.0, 9228907.0), (-2150692.0, 9284045.0)], crs=CRS.POP_WEB)\n",
    "\n",
    "l2a_request = WmsRequest(data_source=DataSource.SENTINEL2_L2A,\n",
    "                         layer='TRUE-COLOR-S2-L2A',\n",
    "                         bbox=volcano_bbox,\n",
    "                         time='2017-08-30',\n",
    "                         width=512,\n",
    "                         instance_id=INSTANCE_ID)\n",
    "l2a_data = l2a_request.get_data()\n",
    "plot_image(l2a_data[0])"
   ]
  },
  {
   "cell_type": "markdown",
   "metadata": {},
   "source": [
    "#### Example 14: DEM\n",
    "\n",
    "To check the elevation model of chosen area we need a layer `DEM` defined with the following custom script:\n",
    "\n",
    "```Javascript\n",
    "return [DEM]\n",
    "```\n",
    "\n",
    "Request using Mapzen DEM as a data source does not require a time parameter."
   ],
   "execution_count": null,
   "outputs": []
  },
  {
   "cell_type": "code",
   "execution_count": null,
   "metadata": {},
   "outputs": [],
   "source": [
    "dem_request = WmsRequest(data_source=DataSource.DEM,\n",
    "                         layer='DEM',\n",
    "                         bbox=volcano_bbox,\n",
    "                         width=512,\n",
    "                         instance_id=INSTANCE_ID,\n",
    "                         image_format=MimeType.TIFF_d32f,\n",
    "                         custom_url_params={CustomUrlParam.SHOWLOGO: False})\n",
    "\n",
    "dem_image = dem_request.get_data()[0]\n",
    "\n",
    "plot_image(dem_image, 1 / np.amax(dem_image))"
   ]
  },
  {
   "cell_type": "markdown",
   "metadata": {},
   "source": [
    "#### Example 15: Landsat 8\n",
    "\n",
    "To view Landsat 8 L1C image we require a layer `TRUE-COLOR-L8` with predefined true color RGB template."
   ],
   "execution_count": null,
   "outputs": []
  },
  {
   "cell_type": "code",
   "execution_count": null,
   "metadata": {},
   "outputs": [],
   "source": [
    "l8_request = WmsRequest(data_source=DataSource.LANDSAT8,\n",
    "                        layer='TRUE-COLOR-L8',\n",
    "                        bbox=volcano_bbox,\n",
    "                        time='2017-08-20',\n",
    "                        width=512,\n",
    "                        instance_id=INSTANCE_ID)\n",
    "\n",
    "l8_data = l8_request.get_data()\n",
    "plot_image(l8_data[-1])"
   ]
  },
  {
   "cell_type": "markdown",
   "metadata": {},
   "source": [
    "#### Example 15: Sentinel-1\n",
    "\n",
    "If we would like to avoid clouds using Sentinel-1 radar data seems like a good idea. The package supports obtaining multiple types of Sentinel-1 data. In this example we will use `DataSource.SENTINEL1_IW`. While creating layer in Sentinel Hub Configurator we must be careful to use the same settings as the supported data source: "
   ],
   "execution_count": null,
   "outputs": []
  },
  {
   "cell_type": "code",
   "execution_count": null,
   "metadata": {},
   "outputs": [],
   "source": [
    "DataSource.SENTINEL1_IW"
   ]
  },
  {
   "cell_type": "markdown",
   "metadata": {},
   "source": [
    "This tells us we have to set acquisition parameter to `IW`, polarisation to `DV`, resolution to `High` and orbit direction to `Both`. After that let's name the layer `TRUE-COLOR-S1-IW` and use the following custom script\n",
    "\n",
    "```Javascript\n",
    "return [VV, 2 * VH, VV / VH / 100.0]\n",
    "```"
   ],
   "execution_count": null,
   "outputs": []
  },
  {
   "cell_type": "code",
   "execution_count": null,
   "metadata": {},
   "outputs": [],
   "source": [
    "s1_request = WmsRequest(data_source=DataSource.SENTINEL1_IW,\n",
    "                         layer='TRUE-COLOR-S1-IW',\n",
    "                         bbox=volcano_bbox,\n",
    "                         time='2017-10-03',\n",
    "                         width=512,\n",
    "                         instance_id=INSTANCE_ID)\n",
    "\n",
    "s1_data = s1_request.get_data()\n",
    "plot_image(s1_data[-1])"
   ]
  },
  {
   "cell_type": "markdown",
   "metadata": {},
   "source": [
    "#### Example 16: Sentinel-1, ascending orbit direction"
   ],
   "execution_count": null,
   "outputs": []
  },
  {
   "cell_type": "markdown",
   "metadata": {},
   "source": [
    "Sentinel-1 data is acquired when a satellite travels either from approx. north to south (i.e. `DESCENDING` orbit direction) or from approx. south to north (i.e.`ASCENDING` orbit direction). With sentinelhub-py package one can request only the data with `ASCENDING` orbit direction if using a datasource ending with \"\\_ASC\" (or only data with `DESCENDING` orbit direction when using datasource ending with \"\\_DES\").   \n",
    "\n",
    "E.g., the request below will fetch only the data with `ASCENDING` orbit direction:"
   ],
   "execution_count": null,
   "outputs": []
  },
  {
   "cell_type": "code",
   "execution_count": null,
   "metadata": {},
   "outputs": [],
   "source": [
    "s1_asc_request = WmsRequest(data_source=DataSource.SENTINEL1_IW_ASC,\n",
    "                         layer='TRUE-COLOR-S1-IW',\n",
    "                         bbox=volcano_bbox,\n",
    "                         time=('2017-10-03','2017-10-05'),\n",
    "                         width=512,\n",
    "                         instance_id=INSTANCE_ID)\n",
    "\n",
    "s1_asc_data = s1_asc_request.get_data()\n",
    "plot_image(s1_asc_data[-1])"
   ]
  },
  {
   "cell_type": "markdown",
   "metadata": {},
   "source": [
    "#### Example 17: Custom (BYOC) data"
   ],
   "execution_count": null,
   "outputs": []
  },
  {
   "cell_type": "markdown",
   "metadata": {},
   "source": [
    "It is possible that you \"bring your own data\" (BYOC) and access it using Sentinel Hub in a similar manner as any other satellite data. \n",
    "To be able to access your own data using Sentinel Hub you will need to prepare a few things. Roughly speaking these are (find all details here: https://docs.sentinel-hub.com/api/latest/#/API/byoc):\n",
    "- Convert your data to Cloud Optimized GeoTiff (COG) format. Store it in AWS S3 bucket and allow SH to access it.\n",
    "- Create collection in SH, which points to the S3 bucket. Within the collection, create tiles. \n",
    "- Create new layer in your configuration, which points to the collection.\n",
    "- Request the data using SentinelHub.py package\n",
    "\n",
    "To demonstrate this, we have prepeared a demo S3 bucket, demo collection and demo layer in our configuration. Tu acess this data we need collection id = '31df1de4-8bd4-43e0-8c3f-b04262d111b6' and layer id = 'DEMO_BYOC_LAYER'. Let see how to request the custom data."
   ],
   "execution_count": null,
   "outputs": []
  },
  {
   "cell_type": "code",
   "execution_count": null,
   "metadata": {},
   "outputs": [],
   "source": [
    "bbox =  [13.82387,45.85221, 13.83313, 45.85901]\n",
    "byoc_bbox = BBox(bbox=bbox, crs=CRS.WGS84)\n",
    "\n",
    "collection_id = '<your collection id>'\n",
    "layer = 'DEMO_BYOC_LAYER'\n",
    "\n",
    "byoc_request = WmsRequest(data_source=DataSource(collection_id),\n",
    "                        layer=layer,\n",
    "                        bbox=byoc_bbox,\n",
    "                        width=512,\n",
    "                        instance_id=INSTANCE_ID)\n",
    "\n",
    "byoc_data = byoc_request.get_data()\n",
    "plot_image(byoc_data[-1])"
   ]
  }
 ],
 "metadata": {
  "hide_input": false,
  "kernelspec": {
   "display_name": "Python 3",
   "language": "python",
   "name": "python3"
  },
  "language_info": {
   "codemirror_mode": {
    "name": "ipython",
    "version": 3
   },
   "file_extension": ".py",
   "mimetype": "text/x-python",
   "name": "python",
   "nbconvert_exporter": "python",
   "pygments_lexer": "ipython3",
   "version": "3.7.0"
  },
  "toc": {
   "base_numbering": 1,
   "nav_menu": {},
   "number_sections": true,
   "sideBar": true,
   "skip_h1_title": true,
   "title_cell": "Table of Contents",
   "title_sidebar": "Contents",
   "toc_cell": false,
   "toc_position": {},
   "toc_section_display": true,
   "toc_window_display": true
  }
 },
 "nbformat": 4,
 "nbformat_minor": 2
}