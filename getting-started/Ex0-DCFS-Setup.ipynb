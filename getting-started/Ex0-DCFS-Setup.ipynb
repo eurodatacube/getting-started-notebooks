{
 "cells": [
  {
   "cell_type": "markdown",
   "metadata": {},
   "source": [
    "## SENTINEL Hub / xcube Integration Setup\n",
    "\n",
    "To run the Notebooks in this folder, you will need some of your [SENTINEL Hub credentials](https://docs.sentinel-hub.com/api/latest/#/API/authentication) and a Python environment\n",
    "with [`xcube`](https://github.com/dcs4cop/xcube) and the `xcube` plugin [`xcube_sh`](https://github.com/dcs4cop/xcube-sh) installed.\n",
    "\n",
    "### Installation\n",
    "\n",
    "For creating an `xcube` Python environment and installing `xcube` follow the instructions given in the [xcube's README](https://github.com/dcs4cop/xcube/blob/master/README.md).\n",
    "For installing the `xcube_sh` plugin follow the instructions given in the [xcube-sh's README](https://github.com/dcs4cop/xcube-sh/blob/master/README.md).\n",
    "\n",
    "Before using Jupyter Lab for the first time install the `jupyterlab` package and make sure the \n",
    "[Jupyter GeoJSON extension](https://www.npmjs.com/package/@jupyterlab/geojson-extension) is installed too:\n",
    "\n",
    "```bash\n",
    "(xcube) conda install -c conda-forge jupyterlab\n",
    "(xcube) jupyter labextension install @jupyterlab/geojson-extension\n",
    "```\n",
    "\n",
    "### Authentication / Authorisation\n",
    "\n",
    "Your SENTINEL Hub (SH) API credentials may be passed by environment variables: \n",
    "\n",
    "```bash\n",
    "(xcube) $ export SH_CLIENT_ID=<your-client-id>\n",
    "(xcube) $ export SH_CLIENT_SECRET=<your-client-secret>\n",
    "(xcube) $ export SH_INSTANCE_ID=<your-ogc-instance-id>\n",
    "```\n",
    "\n",
    "The latter `SH_INSTANCE_ID` is your SH OGC instance ID and is required to allow submitting SH WFS requests which again are used to determine time stamps with valid observations for the given region.\n",
    "\n",
    "You can also pass the SH credentials to the `xcube_sh.cube.open_cube()` function as keyword arguments:\n",
    "\n",
    "```python\n",
    "sh_credentials = dict(client_id='<your-id>',\n",
    "                      client_secret='<your-client-secret>',\n",
    "                      instance_id='<your-ogc-instance-id>')\n",
    "\n",
    "cube = open_cube(cube_config, **sh_credentials)\n",
    "```\n",
    "\n",
    "### Running Juypter-Lab\n",
    "\n",
    "Start Jupyter Lab:\n",
    "\n",
    "```bash\n",
    "(xcube) $ jupyter-lab\n",
    "```\n",
    "\n",
    "### Test Setup\n",
    "\n",
    "Test whether setup was successfull by importing some important `xcube_sh` exports:"
   ]
  },
  {
   "cell_type": "code",
   "execution_count": 4,
   "metadata": {},
   "outputs": [],
   "source": [
    "# Configure data cubes using CubeConfig\n",
    "from xcube_sh.config import CubeConfig\n",
    "# Open data cubes from SH with given CubeConfig\n",
    "from xcube_sh.cube import open_cube\n",
    "# Observe SH requests made open_cube()\n",
    "from xcube_sh.observers import Observers\n",
    "# View stored cubes\n",
    "from xcube_sh.viewer import ViewerServer"
   ]
  },
  {
   "cell_type": "code",
   "execution_count": 5,
   "metadata": {},
   "outputs": [
    {
     "data": {
      "text/plain": [
       "'0.3.0.dev0'"
      ]
     },
     "execution_count": 5,
     "metadata": {},
     "output_type": "execute_result"
    }
   ],
   "source": [
    "from xcube_sh.version import version\n",
    "version"
   ]
  },
  {
   "cell_type": "code",
   "execution_count": null,
   "metadata": {},
   "outputs": [],
   "source": []
  }
 ],
 "metadata": {
  "kernelspec": {
   "display_name": "Python 3",
   "language": "python",
   "name": "python3"
  },
  "language_info": {
   "codemirror_mode": {
    "name": "ipython",
    "version": 3
   },
   "file_extension": ".py",
   "mimetype": "text/x-python",
   "name": "python",
   "nbconvert_exporter": "python",
   "pygments_lexer": "ipython3",
   "version": "3.7.3"
  }
 },
 "nbformat": 4,
 "nbformat_minor": 4
}
