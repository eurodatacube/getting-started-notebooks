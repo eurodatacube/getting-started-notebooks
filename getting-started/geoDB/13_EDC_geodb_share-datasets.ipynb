{
 "cells": [
  {
   "cell_type": "markdown",
   "metadata": {},
   "source": [
    "## Sharing Data\n",
    "\n",
    "This notebook shows how to grant and revoke public access to a collection stored in geoDB."
   ]
  },
  {
   "cell_type": "code",
   "execution_count": 3,
   "metadata": {},
   "outputs": [],
   "source": [
    "from xcube_geodb.core.geodb import GeoDBClient"
   ]
  },
  {
   "cell_type": "code",
   "execution_count": 4,
   "metadata": {},
   "outputs": [
    {
     "data": {
      "text/plain": [
       "'geodb_admin'"
      ]
     },
     "execution_count": 4,
     "metadata": {},
     "output_type": "execute_result"
    }
   ],
   "source": [
    "geodb = GeoDBClient()\n",
    "geodb.whoami"
   ]
  },
  {
   "cell_type": "markdown",
   "metadata": {},
   "source": [
    "### Publish Dataset to the world"
   ]
  },
  {
   "cell_type": "code",
   "execution_count": 5,
   "metadata": {},
   "outputs": [
    {
     "data": {
      "text/plain": [
       "Access granted on land_use to public"
      ]
     },
     "execution_count": 5,
     "metadata": {},
     "output_type": "execute_result"
    }
   ],
   "source": [
    "geodb.grant_access_to_collection(\"land_use\", 'public')"
   ]
  },
  {
   "cell_type": "code",
   "execution_count": 6,
   "metadata": {},
   "outputs": [
    {
     "data": {
      "text/plain": [
       "'publicaccess'"
      ]
     },
     "execution_count": 6,
     "metadata": {},
     "output_type": "execute_result"
    }
   ],
   "source": [
    "geodb = GeoDBClient(anonymous=True)\n",
    "geodb.whoami"
   ]
  },
  {
   "cell_type": "code",
   "execution_count": 7,
   "metadata": {},
   "outputs": [
    {
     "data": {
      "text/html": [
       "<div>\n",
       "<style scoped>\n",
       "    .dataframe tbody tr th:only-of-type {\n",
       "        vertical-align: middle;\n",
       "    }\n",
       "\n",
       "    .dataframe tbody tr th {\n",
       "        vertical-align: top;\n",
       "    }\n",
       "\n",
       "    .dataframe thead th {\n",
       "        text-align: right;\n",
       "    }\n",
       "</style>\n",
       "<table border=\"1\" class=\"dataframe\">\n",
       "  <thead>\n",
       "    <tr style=\"text-align: right;\">\n",
       "      <th></th>\n",
       "      <th>id</th>\n",
       "      <th>created_at</th>\n",
       "      <th>modified_at</th>\n",
       "      <th>geometry</th>\n",
       "      <th>raba_pid</th>\n",
       "      <th>raba_id</th>\n",
       "      <th>d_od</th>\n",
       "    </tr>\n",
       "  </thead>\n",
       "  <tbody>\n",
       "    <tr>\n",
       "      <th>0</th>\n",
       "      <td>12</td>\n",
       "      <td>2020-01-31T11:08:35.241344+00:00</td>\n",
       "      <td>None</td>\n",
       "      <td>POLYGON ((453673.609 91328.224, 453678.929 913...</td>\n",
       "      <td>5983074</td>\n",
       "      <td>1600</td>\n",
       "      <td>2019-03-26</td>\n",
       "    </tr>\n",
       "    <tr>\n",
       "      <th>1</th>\n",
       "      <td>13</td>\n",
       "      <td>2020-01-31T11:08:35.241344+00:00</td>\n",
       "      <td>None</td>\n",
       "      <td>POLYGON ((460312.295 96127.114, 460300.319 961...</td>\n",
       "      <td>5983199</td>\n",
       "      <td>1600</td>\n",
       "      <td>2019-03-11</td>\n",
       "    </tr>\n",
       "    <tr>\n",
       "      <th>2</th>\n",
       "      <td>14</td>\n",
       "      <td>2020-01-31T11:08:35.241344+00:00</td>\n",
       "      <td>None</td>\n",
       "      <td>POLYGON ((460459.445 96117.356, 460470.516 961...</td>\n",
       "      <td>5983217</td>\n",
       "      <td>1100</td>\n",
       "      <td>2019-03-11</td>\n",
       "    </tr>\n",
       "    <tr>\n",
       "      <th>3</th>\n",
       "      <td>15</td>\n",
       "      <td>2020-01-31T11:08:35.241344+00:00</td>\n",
       "      <td>None</td>\n",
       "      <td>POLYGON ((457798.753 99628.982, 457783.076 996...</td>\n",
       "      <td>6299143</td>\n",
       "      <td>1600</td>\n",
       "      <td>2019-03-04</td>\n",
       "    </tr>\n",
       "    <tr>\n",
       "      <th>4</th>\n",
       "      <td>16</td>\n",
       "      <td>2020-01-31T11:08:35.241344+00:00</td>\n",
       "      <td>None</td>\n",
       "      <td>POLYGON ((461439.703 92137.401, 461436.166 921...</td>\n",
       "      <td>4643632</td>\n",
       "      <td>1600</td>\n",
       "      <td>2019-02-21</td>\n",
       "    </tr>\n",
       "    <tr>\n",
       "      <th>...</th>\n",
       "      <td>...</td>\n",
       "      <td>...</td>\n",
       "      <td>...</td>\n",
       "      <td>...</td>\n",
       "      <td>...</td>\n",
       "      <td>...</td>\n",
       "      <td>...</td>\n",
       "    </tr>\n",
       "    <tr>\n",
       "      <th>195</th>\n",
       "      <td>215</td>\n",
       "      <td>2020-01-31T11:08:35.241344+00:00</td>\n",
       "      <td>None</td>\n",
       "      <td>POLYGON ((458934.146 95656.658, 458932.345 956...</td>\n",
       "      <td>5966575</td>\n",
       "      <td>1222</td>\n",
       "      <td>2019-01-05</td>\n",
       "    </tr>\n",
       "    <tr>\n",
       "      <th>196</th>\n",
       "      <td>216</td>\n",
       "      <td>2020-01-31T11:08:35.241344+00:00</td>\n",
       "      <td>None</td>\n",
       "      <td>POLYGON ((458934.146 95656.658, 458935.525 956...</td>\n",
       "      <td>5966577</td>\n",
       "      <td>1100</td>\n",
       "      <td>2019-01-05</td>\n",
       "    </tr>\n",
       "    <tr>\n",
       "      <th>197</th>\n",
       "      <td>217</td>\n",
       "      <td>2020-01-31T11:08:35.241344+00:00</td>\n",
       "      <td>None</td>\n",
       "      <td>POLYGON ((455301.879 91279.877, 455302.373 912...</td>\n",
       "      <td>2594677</td>\n",
       "      <td>1100</td>\n",
       "      <td>2019-03-14</td>\n",
       "    </tr>\n",
       "    <tr>\n",
       "      <th>198</th>\n",
       "      <td>218</td>\n",
       "      <td>2020-01-31T11:08:35.241344+00:00</td>\n",
       "      <td>None</td>\n",
       "      <td>POLYGON ((455207.927 91222.221, 455193.596 912...</td>\n",
       "      <td>2594678</td>\n",
       "      <td>1100</td>\n",
       "      <td>2019-03-14</td>\n",
       "    </tr>\n",
       "    <tr>\n",
       "      <th>199</th>\n",
       "      <td>219</td>\n",
       "      <td>2020-01-31T11:08:35.241344+00:00</td>\n",
       "      <td>None</td>\n",
       "      <td>POLYGON ((456955.636 98474.696, 456952.435 984...</td>\n",
       "      <td>2960296</td>\n",
       "      <td>1500</td>\n",
       "      <td>2019-02-26</td>\n",
       "    </tr>\n",
       "  </tbody>\n",
       "</table>\n",
       "<p>200 rows × 7 columns</p>\n",
       "</div>"
      ],
      "text/plain": [
       "      id                        created_at modified_at  \\\n",
       "0     12  2020-01-31T11:08:35.241344+00:00        None   \n",
       "1     13  2020-01-31T11:08:35.241344+00:00        None   \n",
       "2     14  2020-01-31T11:08:35.241344+00:00        None   \n",
       "3     15  2020-01-31T11:08:35.241344+00:00        None   \n",
       "4     16  2020-01-31T11:08:35.241344+00:00        None   \n",
       "..   ...                               ...         ...   \n",
       "195  215  2020-01-31T11:08:35.241344+00:00        None   \n",
       "196  216  2020-01-31T11:08:35.241344+00:00        None   \n",
       "197  217  2020-01-31T11:08:35.241344+00:00        None   \n",
       "198  218  2020-01-31T11:08:35.241344+00:00        None   \n",
       "199  219  2020-01-31T11:08:35.241344+00:00        None   \n",
       "\n",
       "                                              geometry  raba_pid  raba_id  \\\n",
       "0    POLYGON ((453673.609 91328.224, 453678.929 913...   5983074     1600   \n",
       "1    POLYGON ((460312.295 96127.114, 460300.319 961...   5983199     1600   \n",
       "2    POLYGON ((460459.445 96117.356, 460470.516 961...   5983217     1100   \n",
       "3    POLYGON ((457798.753 99628.982, 457783.076 996...   6299143     1600   \n",
       "4    POLYGON ((461439.703 92137.401, 461436.166 921...   4643632     1600   \n",
       "..                                                 ...       ...      ...   \n",
       "195  POLYGON ((458934.146 95656.658, 458932.345 956...   5966575     1222   \n",
       "196  POLYGON ((458934.146 95656.658, 458935.525 956...   5966577     1100   \n",
       "197  POLYGON ((455301.879 91279.877, 455302.373 912...   2594677     1100   \n",
       "198  POLYGON ((455207.927 91222.221, 455193.596 912...   2594678     1100   \n",
       "199  POLYGON ((456955.636 98474.696, 456952.435 984...   2960296     1500   \n",
       "\n",
       "           d_od  \n",
       "0    2019-03-26  \n",
       "1    2019-03-11  \n",
       "2    2019-03-11  \n",
       "3    2019-03-04  \n",
       "4    2019-02-21  \n",
       "..          ...  \n",
       "195  2019-01-05  \n",
       "196  2019-01-05  \n",
       "197  2019-03-14  \n",
       "198  2019-03-14  \n",
       "199  2019-02-26  \n",
       "\n",
       "[200 rows x 7 columns]"
      ]
     },
     "execution_count": 7,
     "metadata": {},
     "output_type": "execute_result"
    }
   ],
   "source": [
    "gdf = geodb.get_collection_by_bbox(collection=\"land_use\", bbox=(452750.0, 464000.0, 88909.549, 102486.299),\n",
    "                           comparison_mode=\"contains\", bbox_crs=3794, limit=200, offset=10, namespace='geodb_admin')\n",
    "gdf"
   ]
  },
  {
   "cell_type": "markdown",
   "metadata": {},
   "source": [
    "### Revoke access"
   ]
  },
  {
   "cell_type": "code",
   "execution_count": 8,
   "metadata": {},
   "outputs": [
    {
     "data": {
      "text/plain": [
       "'geodb_admin'"
      ]
     },
     "execution_count": 8,
     "metadata": {},
     "output_type": "execute_result"
    }
   ],
   "source": [
    "geodb = GeoDBClient()\n",
    "geodb.whoami"
   ]
  },
  {
   "cell_type": "code",
   "execution_count": 9,
   "metadata": {},
   "outputs": [
    {
     "data": {
      "text/plain": [
       "[{'table_name': 'geodb_admin_land_use', 'grantee': 'PUBLIC'}]"
      ]
     },
     "execution_count": 9,
     "metadata": {},
     "output_type": "execute_result"
    }
   ],
   "source": [
    "geodb.list_grants()"
   ]
  },
  {
   "cell_type": "code",
   "execution_count": 10,
   "metadata": {},
   "outputs": [
    {
     "data": {
      "text/plain": [
       "Access revoked from land_use of public"
      ]
     },
     "execution_count": 10,
     "metadata": {},
     "output_type": "execute_result"
    }
   ],
   "source": [
    "geodb.revoke_access_from_collection(\"land_use\")"
   ]
  },
  {
   "cell_type": "code",
   "execution_count": 11,
   "metadata": {},
   "outputs": [
    {
     "data": {
      "text/plain": [
       "'publicaccess'"
      ]
     },
     "execution_count": 11,
     "metadata": {},
     "output_type": "execute_result"
    }
   ],
   "source": [
    "geodb = GeoDBClient(anonymous=True)\n",
    "geodb.whoami"
   ]
  },
  {
   "cell_type": "code",
   "execution_count": 12,
   "metadata": {},
   "outputs": [
    {
     "ename": "ValueError",
     "evalue": "Collection geodb_admin_land_use does not exist",
     "output_type": "error",
     "traceback": [
      "\u001b[1;31m---------------------------------------------------------------------------\u001b[0m",
      "\u001b[1;31mValueError\u001b[0m                                Traceback (most recent call last)",
      "\u001b[1;32m<ipython-input-12-bf267c99e20a>\u001b[0m in \u001b[0;36m<module>\u001b[1;34m\u001b[0m\n\u001b[0;32m      1\u001b[0m gdf = geodb.get_collection_by_bbox(collection=\"land_use\", bbox=(452750.0, 88909.549, 464000.0, 102486.299),\n\u001b[1;32m----> 2\u001b[1;33m                 comparison_mode=\"contains\", bbox_crs=3794, limit=2, offset=10, namespace='geodb_admin')\n\u001b[0m\u001b[0;32m      3\u001b[0m \u001b[0mgdf\u001b[0m\u001b[1;33m\u001b[0m\u001b[1;33m\u001b[0m\u001b[0m\n",
      "\u001b[1;32mc:\\users\\helge\\ideaprojects\\dcfs-geodb\\xcube_geodb\\core\\geodb.py\u001b[0m in \u001b[0;36mget_collection_by_bbox\u001b[1;34m(self, collection, bbox, comparison_mode, bbox_crs, limit, offset, namespace)\u001b[0m\n\u001b[0;32m    705\u001b[0m         \u001b[0mdn\u001b[0m \u001b[1;33m=\u001b[0m \u001b[1;34mf\"{tab_prefix}_{collection}\"\u001b[0m\u001b[1;33m\u001b[0m\u001b[1;33m\u001b[0m\u001b[0m\n\u001b[0;32m    706\u001b[0m \u001b[1;33m\u001b[0m\u001b[0m\n\u001b[1;32m--> 707\u001b[1;33m         \u001b[0mself\u001b[0m\u001b[1;33m.\u001b[0m\u001b[0m_raise_for_collection_exists\u001b[0m\u001b[1;33m(\u001b[0m\u001b[0mcollection\u001b[0m\u001b[1;33m=\u001b[0m\u001b[0mdn\u001b[0m\u001b[1;33m)\u001b[0m\u001b[1;33m\u001b[0m\u001b[1;33m\u001b[0m\u001b[0m\n\u001b[0m\u001b[0;32m    708\u001b[0m         \u001b[0mself\u001b[0m\u001b[1;33m.\u001b[0m\u001b[0m_raise_for_stored_procedure_exists\u001b[0m\u001b[1;33m(\u001b[0m\u001b[1;34m'geodb_get_by_bbox'\u001b[0m\u001b[1;33m)\u001b[0m\u001b[1;33m\u001b[0m\u001b[1;33m\u001b[0m\u001b[0m\n\u001b[0;32m    709\u001b[0m \u001b[1;33m\u001b[0m\u001b[0m\n",
      "\u001b[1;32mc:\\users\\helge\\ideaprojects\\dcfs-geodb\\xcube_geodb\\core\\geodb.py\u001b[0m in \u001b[0;36m_raise_for_collection_exists\u001b[1;34m(self, collection)\u001b[0m\n\u001b[0;32m   1067\u001b[0m             \u001b[1;32mreturn\u001b[0m \u001b[1;32mTrue\u001b[0m\u001b[1;33m\u001b[0m\u001b[1;33m\u001b[0m\u001b[0m\n\u001b[0;32m   1068\u001b[0m         \u001b[1;32melse\u001b[0m\u001b[1;33m:\u001b[0m\u001b[1;33m\u001b[0m\u001b[1;33m\u001b[0m\u001b[0m\n\u001b[1;32m-> 1069\u001b[1;33m             \u001b[1;32mraise\u001b[0m \u001b[0mValueError\u001b[0m\u001b[1;33m(\u001b[0m\u001b[1;34mf\"Collection {collection} does not exist\"\u001b[0m\u001b[1;33m)\u001b[0m\u001b[1;33m\u001b[0m\u001b[1;33m\u001b[0m\u001b[0m\n\u001b[0m\u001b[0;32m   1070\u001b[0m \u001b[1;33m\u001b[0m\u001b[0m\n\u001b[0;32m   1071\u001b[0m     \u001b[1;32mdef\u001b[0m \u001b[0m_raise_for_stored_procedure_exists\u001b[0m\u001b[1;33m(\u001b[0m\u001b[0mself\u001b[0m\u001b[1;33m,\u001b[0m \u001b[0mstored_procedure\u001b[0m\u001b[1;33m:\u001b[0m \u001b[0mstr\u001b[0m\u001b[1;33m)\u001b[0m \u001b[1;33m->\u001b[0m \u001b[0mbool\u001b[0m\u001b[1;33m:\u001b[0m\u001b[1;33m\u001b[0m\u001b[1;33m\u001b[0m\u001b[0m\n",
      "\u001b[1;31mValueError\u001b[0m: Collection geodb_admin_land_use does not exist"
     ]
    }
   ],
   "source": [
    "gdf = geodb.get_collection_by_bbox(collection=\"land_use\", bbox=(452750.0, 88909.549, 464000.0, 102486.299),\n",
    "                comparison_mode=\"contains\", bbox_crs=3794, limit=2, offset=10, namespace='geodb_admin')\n",
    "gdf"
   ]
  }
 ],
 "metadata": {
  "kernelspec": {
   "display_name": "Python 3",
   "language": "python",
   "name": "python3"
  },
  "language_info": {
   "codemirror_mode": {
    "name": "ipython",
    "version": 3
   },
   "file_extension": ".py",
   "mimetype": "text/x-python",
   "name": "python",
   "nbconvert_exporter": "python",
   "pygments_lexer": "ipython3",
   "version": "3.7.3"
  }
 },
 "nbformat": 4,
 "nbformat_minor": 4
}